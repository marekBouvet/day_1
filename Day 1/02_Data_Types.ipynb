{
 "cells": [
  {
   "cell_type": "markdown",
   "metadata": {
    "slideshow": {
     "slide_type": "slide"
    }
   },
   "source": [
    "# Data types in Python\n",
    "\n",
    "\n",
    "Variables can store data of different types. Since different data types can do different things, data type is a very important concept in programming.\n",
    "\n",
    "Python has the following data types built-in by default, and those data types can be categorised as:\n",
    "\n",
    "* **Numeric Types**:\tint, float, complex\n",
    "* **Text Type**: str\n",
    "* **Sequence Types**:\tlist, tuple, range\n",
    "* **Mapping Type**:\tdict\n",
    "* **Set Types**:    \tset, frozenset\n",
    "* **Boolean Type**:\tbool"
   ]
  },
  {
   "cell_type": "markdown",
   "metadata": {
    "slideshow": {
     "slide_type": "slide"
    }
   },
   "source": [
    "## Numeric data types\n",
    "\n",
    "Numeric data types store numeric values. Number objects are created when you assign a value to them. \n",
    "\n",
    "Numeric data types are:\n",
    "\n",
    "- **integer** (Int is a whole number, positive or negative, without decimals, of unlimited length.)\n",
    "- **float** (Float, or \"floating point number\" is a positive or negative number that contains one or more decimals.)\n",
    "- **complex** (Complex is a number that can be expressed in the form a + bi, where a and b are real numbers, and i represents the imaginary unit - complex numbers are written in Python with a \"j\" as the imaginary part )\n"
   ]
  },
  {
   "cell_type": "code",
   "execution_count": null,
   "metadata": {
    "slideshow": {
     "slide_type": "slide"
    }
   },
   "outputs": [],
   "source": [
    "# Create variable a that is an integer 5, variable b that is a float 24.678, and variable c that is a complex number 5 + 20j\n",
    "\n",
    "a = 5\n",
    "b = 24.678\n",
    "c = 5 + 20j\n",
    "\n",
    "print(a)\n",
    "print(b)\n",
    "print(c)"
   ]
  },
  {
   "cell_type": "code",
   "execution_count": null,
   "metadata": {
    "slideshow": {
     "slide_type": "slide"
    }
   },
   "outputs": [],
   "source": [
    "# With the function type(), we can check the type of our variable \n",
    "\n",
    "type(a)"
   ]
  },
  {
   "cell_type": "code",
   "execution_count": null,
   "metadata": {
    "slideshow": {
     "slide_type": "slide"
    }
   },
   "outputs": [],
   "source": [
    "# use print to see types of more than one variable in one cell\n",
    "\n",
    "print(type(a))\n",
    "\n",
    "print(type(b))\n",
    "\n",
    "print(type(c))"
   ]
  },
  {
   "cell_type": "code",
   "execution_count": null,
   "metadata": {
    "slideshow": {
     "slide_type": "slide"
    }
   },
   "outputs": [],
   "source": [
    "# Integers can be possitive or negative, small or big numbers \n",
    "\n",
    "x = 2\n",
    "y = 783527098835278119271456\n",
    "z = -762900164\n",
    "\n",
    "print(type(x))\n",
    "print(type(y))\n",
    "print(type(z)) "
   ]
  },
  {
   "cell_type": "code",
   "execution_count": null,
   "metadata": {
    "slideshow": {
     "slide_type": "slide"
    }
   },
   "outputs": [],
   "source": [
    "# Floats can also be positive and negative, small or big numbers\n",
    "\n",
    "x = 24875343529202817.34091819264283524\n",
    "y = 5.0\n",
    "z = -37.428\n",
    "\n",
    "print(type(x))\n",
    "print(type(y))\n",
    "print(type(z)) "
   ]
  },
  {
   "cell_type": "code",
   "execution_count": null,
   "metadata": {
    "slideshow": {
     "slide_type": "slide"
    }
   },
   "outputs": [],
   "source": [
    "# Float can also be scientific numbers with an \"e\" to indicate the power of 10. \n",
    "# \"e\" can be positive or negative number and can be written as either E or e\n",
    "\n",
    "x = 7e3\n",
    "y = 56E5\n",
    "z = -21.2e100\n",
    "q = 4e-1\n",
    "\n",
    "print(type(x))\n",
    "print(type(y))\n",
    "print(type(z)) \n",
    "print(type(q))"
   ]
  },
  {
   "cell_type": "code",
   "execution_count": null,
   "metadata": {
    "slideshow": {
     "slide_type": "slide"
    }
   },
   "outputs": [],
   "source": [
    "# Check what the values actually look like \n",
    "\n",
    "print(x)\n",
    "print(y)\n",
    "print(z) \n",
    "print(q)"
   ]
  },
  {
   "cell_type": "markdown",
   "metadata": {
    "slideshow": {
     "slide_type": "slide"
    }
   },
   "source": [
    "### Numeric Data Type Conversion\n",
    "\n",
    "You can convert from one numeric type to another with the **int()**, **float()**, and **complex()** methods. "
   ]
  },
  {
   "cell_type": "code",
   "execution_count": null,
   "metadata": {
    "slideshow": {
     "slide_type": "slide"
    }
   },
   "outputs": [],
   "source": [
    "number = 17    # Define an integer \n",
    "\n",
    "print(f\"Old number is {number} and it has type {type(number)}\")\n",
    "\n",
    "number = float(number) # convert from int to float\n",
    "print(f\"New number is {number} and it has type {type(number)}\")\n"
   ]
  },
  {
   "cell_type": "code",
   "execution_count": null,
   "metadata": {
    "slideshow": {
     "slide_type": "slide"
    }
   },
   "outputs": [],
   "source": [
    "number = 25.32  #  Define a float\n",
    "\n",
    "print(f\"Old number is {number} and it has type {type(number)}\")\n",
    "\n",
    "number = int(number) # convert from float to int\n",
    "print(f\"New number is {number} and it has type {type(number)}\")\n"
   ]
  },
  {
   "cell_type": "code",
   "execution_count": null,
   "metadata": {
    "tags": []
   },
   "outputs": [],
   "source": [
    "int(25.72)"
   ]
  },
  {
   "cell_type": "markdown",
   "metadata": {},
   "source": [
    "This is not a rounding function, but we can use it for other things."
   ]
  },
  {
   "cell_type": "code",
   "execution_count": null,
   "metadata": {
    "tags": []
   },
   "outputs": [],
   "source": [
    "precise_age = \n",
    "age = int(precise_age)\n",
    "\n",
    "print(age)"
   ]
  },
  {
   "cell_type": "markdown",
   "metadata": {
    "slideshow": {
     "slide_type": "slide"
    }
   },
   "source": [
    "### Arithmetic operations with numeric data types \n",
    "\n",
    "Since our variables are numbers, we can perform some operations on them. "
   ]
  },
  {
   "cell_type": "code",
   "execution_count": null,
   "metadata": {
    "slideshow": {
     "slide_type": "slide"
    }
   },
   "outputs": [],
   "source": [
    "x = 9\n",
    "y = 5\n",
    "\n",
    "print(x + y)   # addition\n",
    "print(x - y)   # subtraction\n",
    "print(x * y)   # multiplication\n",
    "print(x / y)   # division\n",
    "print(x // y)  # floor division (division operation that returns the largest possible integer)\n",
    "print(x % y)   # modulus (the remainder of a division)\n",
    "print(x ** y)  # exponentiation (x to the power of y)\n"
   ]
  },
  {
   "cell_type": "code",
   "execution_count": null,
   "metadata": {},
   "outputs": [],
   "source": [
    "200 // 60"
   ]
  },
  {
   "cell_type": "code",
   "execution_count": null,
   "metadata": {},
   "outputs": [],
   "source": [
    "200 % 60"
   ]
  },
  {
   "cell_type": "code",
   "execution_count": null,
   "metadata": {
    "slideshow": {
     "slide_type": "slide"
    }
   },
   "outputs": [],
   "source": [
    "# We can combine different arithmetic operators together \n",
    "\n",
    "# Python supports the order of operations, so you can use multiple operations in one expression. \n",
    "print(2 + 3 * 4)\n",
    "\n",
    "\n",
    "# You can use parentheses to modify the order of operations\n",
    "print((2 + 3) * 4)\n"
   ]
  },
  {
   "cell_type": "code",
   "execution_count": null,
   "metadata": {
    "slideshow": {
     "slide_type": "slide"
    }
   },
   "outputs": [],
   "source": [
    "# We can create new variables using arithmetic operators \n",
    "\n",
    "x = 3 \n",
    "y = 5\n",
    "\n",
    "z = x + y \n",
    "\n",
    "z"
   ]
  },
  {
   "cell_type": "code",
   "execution_count": null,
   "metadata": {
    "slideshow": {
     "slide_type": "slide"
    }
   },
   "outputs": [],
   "source": [
    "# We can also create new variables using arithmetic operators and combining variables and numbers \n",
    "\n",
    "x = 7 \n",
    "\n",
    "z1 = x + 4 \n",
    "z2 = x - 4\n",
    "z3 = x * 4\n",
    "z4 = x / 4\n",
    "\n",
    "print(z1)\n",
    "print(z2)\n",
    "print(z3)\n",
    "print(z4)"
   ]
  },
  {
   "cell_type": "code",
   "execution_count": null,
   "metadata": {
    "slideshow": {
     "slide_type": "slide"
    }
   },
   "outputs": [],
   "source": [
    "# we can overwrite existing variables the same way \n",
    "\n",
    "x = 3\n",
    "print(x)\n",
    "\n",
    "x = x + 4\n",
    "print(x)"
   ]
  },
  {
   "cell_type": "code",
   "execution_count": null,
   "metadata": {
    "slideshow": {
     "slide_type": "slide"
    }
   },
   "outputs": [],
   "source": [
    "# there is another way to write this \n",
    "\n",
    "x = 3\n",
    "print(x)\n",
    "\n",
    "x += 4\n",
    "print(x)"
   ]
  },
  {
   "attachments": {
    "ArithmeticOperations.png": {
     "image/png": "[encoded data removed]"
    }
   },
   "cell_type": "markdown",
   "metadata": {
    "slideshow": {
     "slide_type": "slide"
    }
   },
   "source": [
    "Two ways of writing: \n",
    "<div>\n",
    "<img src=\"attachment:ArithmeticOperations.png\" width=\"300\"/>\n",
    "</div>\n"
   ]
  },
  {
   "cell_type": "code",
   "execution_count": null,
   "metadata": {
    "slideshow": {
     "slide_type": "slide"
    }
   },
   "outputs": [],
   "source": [
    "# Python may sometimes give you really weird results \n",
    "\n",
    "0.2 + 0.7 "
   ]
  },
  {
   "cell_type": "code",
   "execution_count": null,
   "metadata": {
    "slideshow": {
     "slide_type": "slide"
    }
   },
   "outputs": [],
   "source": [
    "3 * 0.1"
   ]
  },
  {
   "cell_type": "markdown",
   "metadata": {
    "slideshow": {
     "slide_type": "slide"
    }
   },
   "source": [
    "This happens in all programming languages and it's not something you should worry about. \n",
    "\n",
    "What happens is that Python tries to find a way to represent the result as precisely as possible, which can be difficult given how computers represent numbers internally."
   ]
  },
  {
   "cell_type": "code",
   "execution_count": null,
   "metadata": {
    "slideshow": {
     "slide_type": "slide"
    }
   },
   "outputs": [],
   "source": [
    "# We can use built-in function in Python to round numerical values to certain amount of decimal points\n",
    "\n",
    "# The funtion takes two arguments, the number you want to round and the number of decimal places\n",
    "\n",
    "x = round(16.0736927, 3)\n",
    "print(x)"
   ]
  },
  {
   "cell_type": "markdown",
   "metadata": {
    "slideshow": {
     "slide_type": "slide"
    }
   },
   "source": [
    "## Strings \n",
    "\n",
    "**Strings** in Python are contiguous sets of characters represented in the quotation marks (single od double)."
   ]
  },
  {
   "cell_type": "code",
   "execution_count": null,
   "metadata": {
    "slideshow": {
     "slide_type": "slide"
    }
   },
   "outputs": [],
   "source": [
    "# creating two string variables \n",
    "\n",
    "string1 = \"Mike\" # double quotation marks\n",
    "string2 = 'Mike' # single quotation marks\n",
    "\n",
    "print(string1)\n",
    "print(string2)"
   ]
  },
  {
   "cell_type": "code",
   "execution_count": null,
   "metadata": {
    "slideshow": {
     "slide_type": "slide"
    }
   },
   "outputs": [],
   "source": [
    "# This flexibility allows you to use quotes and apostrophes within your strings:\n",
    "\n",
    "string3 = 'And then he told me: \"Python is my favorite programming language!\"' \n",
    "string4 = \"One of Python's strengths is its easy to understand syntax.\" \n",
    "\n",
    "print(string3)\n",
    "print(string4)"
   ]
  },
  {
   "cell_type": "code",
   "execution_count": null,
   "metadata": {
    "slideshow": {
     "slide_type": "slide"
    }
   },
   "outputs": [],
   "source": [
    "# You always have to use quotation marks to create strings \n",
    "\n",
    "string = Mike"
   ]
  },
  {
   "cell_type": "code",
   "execution_count": null,
   "metadata": {
    "slideshow": {
     "slide_type": "slide"
    }
   },
   "outputs": [],
   "source": [
    "# You can't mix your quotation marks \n",
    "\n",
    "string3 = 'Mike\"\n",
    "string3"
   ]
  },
  {
   "cell_type": "markdown",
   "metadata": {
    "slideshow": {
     "slide_type": "slide"
    }
   },
   "source": [
    "### Converting data types \n",
    "\n",
    "We can always convert number to string (using **str** function), and in certan cases we can convert string to number. "
   ]
  },
  {
   "cell_type": "code",
   "execution_count": null,
   "metadata": {
    "slideshow": {
     "slide_type": "slide"
    }
   },
   "outputs": [],
   "source": [
    "# To convert variable to string use str function\n",
    "\n",
    "nr1 = 1\n",
    "nr2 = 1.65\n",
    "nr3 = 3 + 4j  # assign three different numerical variables \n",
    "\n",
    "print(type(nr1))\n",
    "print(type(nr2))\n",
    "print(type(nr3))  # checking the type of our variables\n",
    "\n",
    "nr1 = str(nr1)\n",
    "nr2 = str(nr2)\n",
    "nr3 = str(nr3)    # changing variables to string\n",
    "\n",
    "print('')         # print empty row\n",
    "print(type(nr1))\n",
    "print(type(nr2))\n",
    "print(type(nr3))  # checking the type of our variables again "
   ]
  },
  {
   "cell_type": "code",
   "execution_count": null,
   "metadata": {
    "slideshow": {
     "slide_type": "slide"
    }
   },
   "outputs": [],
   "source": [
    "# if variable is defined as string, but it actually has a numerical value,\n",
    "# we can convert it to number \n",
    "\n",
    "nr1 = \"1\"\n",
    "nr2 = \"1.65\"\n",
    "nr3 = \"3+4j\"  \n",
    "\n",
    "print(type(nr1))\n",
    "print(type(nr2))\n",
    "print(type(nr3))\n",
    "\n",
    "nr1 = int(nr1)\n",
    "nr2 = float(nr2)\n",
    "nr3 = complex(nr3)\n",
    "\n",
    "print('')         # print empty row\n",
    "print(type(nr1))\n",
    "print(type(nr2))\n",
    "print(type(nr3))"
   ]
  },
  {
   "cell_type": "code",
   "execution_count": null,
   "metadata": {},
   "outputs": [],
   "source": [
    "nr2 = \"1.65\"\n",
    "nr2"
   ]
  },
  {
   "cell_type": "code",
   "execution_count": null,
   "metadata": {},
   "outputs": [],
   "source": [
    "float(nr2)"
   ]
  },
  {
   "cell_type": "code",
   "execution_count": null,
   "metadata": {
    "slideshow": {
     "slide_type": "slide"
    }
   },
   "outputs": [],
   "source": [
    "# If string doesn't have a numerical value, then obvously we can't turn in to number \n",
    "\n",
    "string = \"Mike\"\n",
    "\n",
    "string = int(string)"
   ]
  },
  {
   "cell_type": "markdown",
   "metadata": {
    "slideshow": {
     "slide_type": "slide"
    }
   },
   "source": [
    "### String manipulations"
   ]
  },
  {
   "cell_type": "markdown",
   "metadata": {
    "slideshow": {
     "slide_type": "slide"
    }
   },
   "source": [
    "We can't use arithmetic operators with strings, but we do use + and * even with strings. \n",
    "\n",
    "* the plus ( + ) sign is the string concatenation operator \n",
    "* and the asterisk ( * ) is the repetition operator"
   ]
  },
  {
   "cell_type": "code",
   "execution_count": null,
   "metadata": {
    "slideshow": {
     "slide_type": "slide"
    }
   },
   "outputs": [],
   "source": [
    "# Define 2 strings and check what + does once applied to those strings \n",
    "\n",
    "first_name = \"Jennifer\"\n",
    "last_name = \"Lopez\"\n",
    "\n",
    "full_name = first_name + last_name\n",
    "\n",
    "print(full_name)"
   ]
  },
  {
   "cell_type": "code",
   "execution_count": null,
   "metadata": {
    "slideshow": {
     "slide_type": "slide"
    }
   },
   "outputs": [],
   "source": [
    "# If we need space or any other string beetween variables \n",
    "\n",
    "full_name = first_name + \" \" + last_name\n",
    "print(full_name)"
   ]
  },
  {
   "cell_type": "code",
   "execution_count": null,
   "metadata": {
    "slideshow": {
     "slide_type": "slide"
    }
   },
   "outputs": [],
   "source": [
    "# We use + in print function as well \n",
    "print(first_name + \" \" + last_name)"
   ]
  },
  {
   "cell_type": "code",
   "execution_count": null,
   "metadata": {
    "slideshow": {
     "slide_type": "slide"
    }
   },
   "outputs": [],
   "source": [
    "# You can only concatenate strings \n",
    "print(first_name + 333 + last_name)"
   ]
  },
  {
   "cell_type": "code",
   "execution_count": null,
   "metadata": {
    "slideshow": {
     "slide_type": "slide"
    }
   },
   "outputs": [],
   "source": [
    "# Define a string and check what * does once applied to that string \n",
    "\n",
    "first_name = \"Mike\"\n",
    "\n",
    "first_times_three = first_name * 3\n",
    "\n",
    "print(first_times_three)"
   ]
  },
  {
   "cell_type": "code",
   "execution_count": null,
   "metadata": {
    "slideshow": {
     "slide_type": "slide"
    }
   },
   "outputs": [],
   "source": [
    "# let's check some other functions that we have in Python for string manipulation\n",
    "\n",
    "# count the length of the string - use the len function\n",
    "\n",
    "name = \"brad pitt\"\n",
    "\n",
    "len(name)"
   ]
  },
  {
   "cell_type": "code",
   "execution_count": null,
   "metadata": {
    "slideshow": {
     "slide_type": "slide"
    }
   },
   "outputs": [],
   "source": [
    "# Converts the first character of a string to upper case\n",
    "\n",
    "name.capitalize()"
   ]
  },
  {
   "cell_type": "code",
   "execution_count": null,
   "metadata": {},
   "outputs": [],
   "source": [
    "name"
   ]
  },
  {
   "cell_type": "markdown",
   "metadata": {
    "slideshow": {
     "slide_type": "slide"
    }
   },
   "source": [
    "As you could notice so far, there are multiple ways to use functions in Python:\n",
    "\n",
    "- sometimes we write function name, parenthesis after the name and then variable in parentheses \n",
    "    - for example, `print(name)` or `len(name)`\n",
    "- sometimes we write function name, then space then variable name \n",
    "    - for example, `del name`\n",
    "- sometimes we write variable name, then . then function name, then parentheses \n",
    "    - for example, `name.capitalize()`\n",
    "\n",
    "This is because some of these functions are called methods. **A method** is an action that Python can perform on a piece of data. And `del` is actually not a function, it's a keyword. \n",
    "\n",
    "The dot (.) after `name` in `name.capitalize()` tells Python to use the `capitalize()` method on the variable name. \n",
    "\n",
    "Every method is followed by a set of parentheses, because methods often need additional information to do their work. That information is provided inside the parentheses. \n",
    "\n",
    "The `capitalize()` function doesn’t need any additional information, so its parentheses are empty. "
   ]
  },
  {
   "cell_type": "code",
   "execution_count": null,
   "metadata": {
    "slideshow": {
     "slide_type": "slide"
    }
   },
   "outputs": [],
   "source": [
    "# some other functions we can use on strings\n",
    "\n",
    "print(name) # print the variable\n",
    "\n",
    "print(name.title()) # Converts the first character of each word to upper case\n",
    "\n",
    "print(name.lower()) # Converts a string into lower case\n",
    "\n",
    "print(name.upper()) # Converts a string into upper case \n",
    "\n",
    "# as mentioned, some functions need additional argument(s) in the parentheses\n",
    "\n",
    "print(name.startswith(\"B\")) # Returns true if the string starts with the specified value \n",
    "                            # beware - it's case sensitive! \n",
    "\n",
    "print(name.endswith(\"t\")) # Returns true if the string ends with the specified value\n",
    "\n",
    "print(name.replace(\"t\", \"x\")) # Returns a string where a specified value is replaced \n",
    "                              # with another specified value\n",
    "\n",
    "print(name.replace(\"brad\", \"john\")) # we can replace several characters "
   ]
  },
  {
   "cell_type": "code",
   "execution_count": null,
   "metadata": {},
   "outputs": [],
   "source": [
    "name"
   ]
  },
  {
   "cell_type": "code",
   "execution_count": null,
   "metadata": {},
   "outputs": [],
   "source": [
    "lønn = 2000\n",
    "print(f\"{lønn:,.2f}\".replace(\",\", \".\"))"
   ]
  },
  {
   "cell_type": "code",
   "execution_count": null,
   "metadata": {
    "slideshow": {
     "slide_type": "slide"
    }
   },
   "outputs": [],
   "source": [
    "# we can also use more functions together \n",
    "\n",
    "name.upper().replace(\"BRAD\", \"JOHN\")"
   ]
  },
  {
   "cell_type": "code",
   "execution_count": null,
   "metadata": {
    "slideshow": {
     "slide_type": "slide"
    }
   },
   "outputs": [],
   "source": [
    "# make sure you have your functions in the right order \n",
    "\n",
    "name.replace(\"BRAD\", \"JOHN\").upper()"
   ]
  },
  {
   "cell_type": "code",
   "execution_count": null,
   "metadata": {},
   "outputs": [],
   "source": [
    "name.replace(\"BRAD\", \"JOHN\")"
   ]
  },
  {
   "cell_type": "code",
   "execution_count": null,
   "metadata": {},
   "outputs": [],
   "source": [
    "name.replace(\"BRAD\", \"JOHN\").upper().replace(\"BRAD\", \"JOHN\")"
   ]
  },
  {
   "cell_type": "code",
   "execution_count": null,
   "metadata": {
    "slideshow": {
     "slide_type": "slide"
    }
   },
   "outputs": [],
   "source": [
    "# however, none of these methods changed our variable name permanately \n",
    "\n",
    "# if you want to change the value of your variable or create new variable using any of these methods, \n",
    "\n",
    "# then you need to assingn those values \n",
    "\n",
    "print(\"Old name is: \" + name)\n",
    "\n",
    "new_name = name.upper().replace(\"BRAD\", \"JOHN\") # assign new variable\n",
    "print(\"New name is: \" + new_name)\n",
    "\n",
    "name = name.title() # change existing variable \n",
    "print(\"Changed name is: \" + name)"
   ]
  },
  {
   "cell_type": "markdown",
   "metadata": {
    "slideshow": {
     "slide_type": "slide"
    }
   },
   "source": [
    "More methods for strings manipulation in Python can be found here https://www.w3schools.com/python/python_ref_string.asp "
   ]
  },
  {
   "cell_type": "markdown",
   "metadata": {
    "slideshow": {
     "slide_type": "slide"
    }
   },
   "source": [
    "### String indexing \n",
    "\n",
    "You can access every element in the string (every character) by referring to its index number. \n",
    "\n",
    "The indexes in Python start with 0. This means that the first element has index 0, and the second has index 1, third element has index 2 etc."
   ]
  },
  {
   "attachments": {
    "54ba2586-ad6d-47b1-9506-bb41d538253b.png": {
     "image/png": "[encoded data removed]"
    }
   },
   "cell_type": "markdown",
   "metadata": {},
   "source": [
    "![elements and indices](attachment:54ba2586-ad6d-47b1-9506-bb41d538253b.png)"
   ]
  },
  {
   "cell_type": "code",
   "execution_count": null,
   "metadata": {
    "slideshow": {
     "slide_type": "slide"
    }
   },
   "outputs": [],
   "source": [
    "my_string = \"Hello world!\""
   ]
  },
  {
   "cell_type": "code",
   "execution_count": null,
   "metadata": {},
   "outputs": [],
   "source": [
    "my_string"
   ]
  },
  {
   "cell_type": "code",
   "execution_count": null,
   "metadata": {},
   "outputs": [],
   "source": [
    "tall = \"123\"\n",
    "tall[1]"
   ]
  },
  {
   "cell_type": "code",
   "execution_count": null,
   "metadata": {
    "slideshow": {
     "slide_type": "slide"
    }
   },
   "outputs": [],
   "source": [
    "# in order to index our string, we need to write string name, \n",
    "# and then the index number in square brackets \n",
    "\n",
    "my_string[0] # indexing starts with 0, so this will give us the first character "
   ]
  },
  {
   "cell_type": "code",
   "execution_count": null,
   "metadata": {
    "slideshow": {
     "slide_type": "slide"
    }
   },
   "outputs": [],
   "source": [
    "my_string[1] # indexing starts with 0, so this will give us the second character "
   ]
  },
  {
   "cell_type": "code",
   "execution_count": null,
   "metadata": {
    "slideshow": {
     "slide_type": "slide"
    }
   },
   "outputs": [],
   "source": [
    "# print the 7th character in mystring - it should be 'w' since we also count space as a character\n",
    "\n",
    "my_string[6]"
   ]
  },
  {
   "cell_type": "code",
   "execution_count": null,
   "metadata": {
    "slideshow": {
     "slide_type": "slide"
    }
   },
   "outputs": [],
   "source": [
    "# You can specify a range of indexes by specifying where to start and where to end the range. \n",
    "\n",
    "# [Start_index:Stop_index]\n",
    "\n",
    "my_string[0:6] # this will give me first 6 characters because Python stops at Stop_index - 1"
   ]
  },
  {
   "cell_type": "code",
   "execution_count": null,
   "metadata": {
    "slideshow": {
     "slide_type": "slide"
    }
   },
   "outputs": [],
   "source": [
    "# print all characters from 5th to 10th ('o worl')\n",
    "\n",
    "my_string[4:10]"
   ]
  },
  {
   "cell_type": "code",
   "execution_count": null,
   "metadata": {},
   "outputs": [],
   "source": [
    "my_string[9]"
   ]
  },
  {
   "cell_type": "code",
   "execution_count": null,
   "metadata": {
    "slideshow": {
     "slide_type": "slide"
    }
   },
   "outputs": [],
   "source": [
    "# Leaving start or stop index empty will default to the beginning/end of the string.\n",
    "\n",
    "# Print everything from 3rd character (3rd included)\n",
    "\n",
    "my_string[2:] "
   ]
  },
  {
   "cell_type": "code",
   "execution_count": null,
   "metadata": {
    "slideshow": {
     "slide_type": "slide"
    }
   },
   "outputs": [],
   "source": [
    "# Print everything until 11th character (11th excluded - so first 10 characters)\n",
    "\n",
    "my_string[:10] "
   ]
  },
  {
   "cell_type": "code",
   "execution_count": null,
   "metadata": {
    "slideshow": {
     "slide_type": "slide"
    }
   },
   "outputs": [],
   "source": [
    "# we can also use a negative number as index to start counting from the end of the string \n",
    "\n",
    "my_string[-1] # we can't have -0, so now we start with -1 "
   ]
  },
  {
   "cell_type": "code",
   "execution_count": null,
   "metadata": {
    "slideshow": {
     "slide_type": "slide"
    }
   },
   "outputs": [],
   "source": [
    "my_string[-6:] # last 6 characters  "
   ]
  },
  {
   "cell_type": "markdown",
   "metadata": {},
   "source": [
    "How is this useful to us?"
   ]
  },
  {
   "cell_type": "code",
   "execution_count": null,
   "metadata": {
    "tags": []
   },
   "outputs": [],
   "source": [
    "date_string = \"2019-04-01T00:00+02:00[Europe/Oslo]\"\n",
    "datetime_string = date_string[:22]\n",
    "datetime_location = date_string[22:]"
   ]
  },
  {
   "cell_type": "code",
   "execution_count": null,
   "metadata": {
    "tags": []
   },
   "outputs": [],
   "source": [
    "datetime_string"
   ]
  },
  {
   "cell_type": "code",
   "execution_count": null,
   "metadata": {
    "tags": []
   },
   "outputs": [],
   "source": [
    "datetime_location"
   ]
  },
  {
   "cell_type": "markdown",
   "metadata": {
    "slideshow": {
     "slide_type": "slide"
    }
   },
   "source": [
    "# Task 2\n",
    "\n",
    "#### 1. Numeric variables \n",
    "\n",
    "1.1. Create variable x with value 17, and variable y with value 8.2651 \n",
    "\n",
    "1.2. Check the type of x and y\n",
    "\n",
    "1.3. Transform x from int to float\n",
    "\n",
    "1.4. Round y to 2 decimal points - change the existing variable y\n",
    "\n",
    "1.5. Calculate sum of x and y, y divided by x and x modulus y \n",
    "\n",
    "\n",
    "\n",
    "#### 2. Strings \n",
    "\n",
    "2.1. Create a variable *first_name* with value \"luke\" \n",
    "\n",
    "2.2. Create a variable *last_name* with value \"skywalker\" \n",
    "\n",
    "2.3. Create a variable *full_name* as combination of *first_name* and *last_name* (tip: use + and mind the space in beetween)\n",
    "\n",
    "2.4. Create a new variable called _message_ with value \"Hello, Luke Skywalker!\" (hint: use .title() to capitalize the name) \n",
    "\n",
    "2.5. Replace string luke with leia in *full_name* \n",
    "\n",
    "2.6. Create new variable called _country_ with value \"NO - Norway\"\n",
    "\n",
    "2.7. Create 2 new variables from _country_ variable - one called *country_code* with value \"NO\" and one called *country_name* with value \"Norway\" - use indexing!"
   ]
  },
  {
   "cell_type": "code",
   "execution_count": null,
   "metadata": {
    "slideshow": {
     "slide_type": "slide"
    }
   },
   "outputs": [],
   "source": [
    "# 1. Numeric variables\n",
    "# 1.1. Create variable x with value 17, and variable y with value 8.2651\n",
    "\n",
    "# 1.2. Check the type of x and y\n",
    "\n",
    "# 1.3. Transform x from int to float\n",
    "\n",
    "# 1.4. Round y to 2 decimal points - change the existing variable y\n",
    "\n",
    "# 1.5. Calculate sum of x and y, y divided by x and x modulus y"
   ]
  },
  {
   "cell_type": "code",
   "execution_count": null,
   "metadata": {},
   "outputs": [],
   "source": [
    "\n",
    "# 2. Strings\n",
    "# 2.1. Create a variable first_name with value \"luke\"\n",
    "\n",
    "# 2.2. Create a variable last_name with value \"skywalker\"\n",
    "\n",
    "# 2.3. Create a variable full_name as combination of first_name and last_name (tip: use + and mind the space in beetween)\n",
    "# Two alternatives:\n",
    "\n",
    "# 2.4. Create a new variable called message with value \"Hello, Luke Skywalker!\" (hint: use .title() to capitalize the name)\n",
    "\n",
    "# 2.5. Replace string luke with leia in full_name\n",
    "\n",
    "# 2.6. Create new variable called country with value \"NO - Norway\"\n",
    "\n",
    "# 2.7. Create 2 new variables from country variable - one called country_code with value \"NO\" and one called country_name with value \"Norway\" - use indexing\n",
    "\n"
   ]
  },
  {
   "cell_type": "markdown",
   "metadata": {
    "slideshow": {
     "slide_type": "slide"
    }
   },
   "source": [
    "## Sequence Data Types\n",
    "\n",
    "There are three sequence data types in Python: \n",
    "- list\n",
    "- tuple\n",
    "- range"
   ]
  },
  {
   "cell_type": "markdown",
   "metadata": {
    "slideshow": {
     "slide_type": "slide"
    }
   },
   "source": [
    "## Lists \n",
    "\n",
    "**List** is a collection which is ordered (meaning that items are stored in a particular order), indexed (meaning that you can access specific items by referring to an index) and mutable (meaning that we can change them). \n",
    "\n",
    "A list contains items that are separated by **commas** and enclosed within **square brackets [ ]**. \n",
    "\n",
    "Items in one list can be of different data type and lists allow duplicate members."
   ]
  },
  {
   "cell_type": "code",
   "execution_count": null,
   "metadata": {},
   "outputs": [],
   "source": [
    "min_liste = [1, 2, 3]"
   ]
  },
  {
   "cell_type": "code",
   "execution_count": null,
   "metadata": {},
   "outputs": [],
   "source": [
    "type(min_liste)"
   ]
  },
  {
   "cell_type": "code",
   "execution_count": null,
   "metadata": {
    "slideshow": {
     "slide_type": "slide"
    }
   },
   "outputs": [],
   "source": [
    "list2 = ['Phil', 'Daisy', 'May', 'Jemma', 'Leo'] # list with strings \n",
    "\n",
    "list3 = ['abcd', 32.32, 'Mike', 17, 2+6j] # list with different data types \n",
    "\n",
    "list4 = ['abcd', 32.32, 'Mike', 17, 2+6j, 'Mike'] # list with duplicate values ('Mike' is appearing twice)"
   ]
  },
  {
   "cell_type": "code",
   "execution_count": null,
   "metadata": {
    "slideshow": {
     "slide_type": "slide"
    }
   },
   "outputs": [],
   "source": [
    "print(list2)\n",
    "print(list3)\n",
    "print(list4)"
   ]
  },
  {
   "cell_type": "code",
   "execution_count": null,
   "metadata": {
    "slideshow": {
     "slide_type": "slide"
    }
   },
   "outputs": [],
   "source": [
    "# Another way to create a list is by using list() constructor \n",
    "\n",
    "list5 = list(('abcd', 32.32, 'Mike', 17, 2+6j, 'Mike')) \n",
    "\n",
    "# in this case we use parentesis and not square brackets \n",
    "\n",
    "# also, you have to use double parentesis\n",
    "\n",
    "print(list5)"
   ]
  },
  {
   "attachments": {
    "75091099-81ec-4332-933f-dcc689e14703.png": {
     "image/png": "[encoded data removed]"
    }
   },
   "cell_type": "markdown",
   "metadata": {},
   "source": [
    "![list elements](attachment:75091099-81ec-4332-933f-dcc689e14703.png)"
   ]
  },
  {
   "cell_type": "code",
   "execution_count": null,
   "metadata": {
    "slideshow": {
     "slide_type": "slide"
    }
   },
   "outputs": [],
   "source": [
    "# accessing elements of a list - same rules as for strings\n",
    "\n",
    "# don't forget, indexing starts with 0! \n",
    "\n",
    "my_list = ['abcd', 32.32, 'Mike', 17, 'lala']\n",
    "\n",
    "print (my_list)          # Prints complete list\n",
    "\n",
    "print (my_list[0])       # Prints first element of the list\n",
    "\n",
    "print (my_list[1:3])     # Prints elements starting from 2nd till 3rd \n",
    "\n",
    "print (my_list[2:])      # Prints elements starting from 3rd element\n"
   ]
  },
  {
   "cell_type": "code",
   "execution_count": null,
   "metadata": {
    "slideshow": {
     "slide_type": "slide"
    }
   },
   "outputs": [],
   "source": [
    "# we can add new elements to the list \n",
    "\n",
    "my_shopping_list = ['Milk', 'Bananas', 'Sugar']\n",
    "\n",
    "my_shopping_list.append('Bread') # adding aditional shopping item\n",
    "\n",
    "my_shopping_list"
   ]
  },
  {
   "cell_type": "code",
   "execution_count": null,
   "metadata": {},
   "outputs": [],
   "source": [
    "food = \"Bread\""
   ]
  },
  {
   "cell_type": "code",
   "execution_count": null,
   "metadata": {},
   "outputs": [],
   "source": [
    "my_shopping_list.append(matvare)"
   ]
  },
  {
   "cell_type": "code",
   "execution_count": null,
   "metadata": {},
   "outputs": [],
   "source": [
    "my_shopping_list"
   ]
  },
  {
   "cell_type": "code",
   "execution_count": null,
   "metadata": {
    "slideshow": {
     "slide_type": "slide"
    }
   },
   "outputs": [],
   "source": [
    "# .append function will add new element to the end of the list \n",
    "\n",
    "# we can also use list.insert(index, new element) to add new element to a specific index\n",
    "\n",
    "# for example, if we want to add 'Beer' to the second place in the list (between Milk And Bananas)\n",
    "\n",
    "# index is 1 because indexing starts at 0\n",
    "\n",
    "my_shopping_list.insert(1, 'Beer')\n",
    "\n",
    "my_shopping_list"
   ]
  },
  {
   "cell_type": "code",
   "execution_count": null,
   "metadata": {
    "slideshow": {
     "slide_type": "slide"
    }
   },
   "outputs": [],
   "source": [
    "# we can also change elements of the list \n",
    "\n",
    "# for example, you want to replace 'Bananas' with 'Oranges'\n",
    "my_shopping_list[2]"
   ]
  },
  {
   "cell_type": "code",
   "execution_count": null,
   "metadata": {
    "slideshow": {
     "slide_type": "slide"
    }
   },
   "outputs": [],
   "source": [
    "my_shopping_list[2] = 'Oranges' # bananas are third element in the list so index is 2\n",
    "\n",
    "my_shopping_list"
   ]
  },
  {
   "cell_type": "code",
   "execution_count": null,
   "metadata": {
    "slideshow": {
     "slide_type": "slide"
    }
   },
   "outputs": [],
   "source": [
    "# To determine how many items there are in the list, use the len() function:\n",
    "\n",
    "len(list4)"
   ]
  },
  {
   "cell_type": "code",
   "execution_count": null,
   "metadata": {
    "slideshow": {
     "slide_type": "slide"
    }
   },
   "outputs": [],
   "source": [
    "# sort() Sorts the list\n",
    "\n",
    "list1 = [786, 2, 100000, -9]\n",
    "\n",
    "print(list1)\n",
    "\n",
    "list1.sort()\n",
    "\n",
    "print(list1)"
   ]
  },
  {
   "cell_type": "code",
   "execution_count": null,
   "metadata": {
    "slideshow": {
     "slide_type": "slide"
    }
   },
   "outputs": [],
   "source": [
    "# reverse() Reverses the order of the list\n",
    "\n",
    "print(list1)\n",
    "\n",
    "list1.reverse()\n",
    "\n",
    "print(list1)"
   ]
  },
  {
   "cell_type": "code",
   "execution_count": null,
   "metadata": {
    "slideshow": {
     "slide_type": "slide"
    }
   },
   "outputs": [],
   "source": [
    "# we can't use sort and reverse on lists that contain different data types \n",
    "\n",
    "list2 = ['abcd', 32.32, 'Mike', 17, 'lala']\n",
    "\n",
    "print(list2)\n",
    "\n",
    "list2.sort()\n",
    "\n",
    "print(list2)\n"
   ]
  },
  {
   "cell_type": "code",
   "execution_count": null,
   "metadata": {
    "slideshow": {
     "slide_type": "slide"
    }
   },
   "outputs": [],
   "source": [
    "# if a list contains only the numerical values, you can use some mathematical functions on it \n",
    "\n",
    "MyList = [4, 7, -3, 65, 11, 0]\n",
    "\n",
    "print(sum(MyList)) # sumarizing all elements in the list \n",
    "\n",
    "print(min(MyList)) # minimal value in the list \n",
    "\n",
    "print(max(MyList)) # maximal value in the list "
   ]
  },
  {
   "cell_type": "markdown",
   "metadata": {
    "slideshow": {
     "slide_type": "slide"
    }
   },
   "source": [
    "A list can contain any sort object, even another list, which can contain another lists themselves, and so on. This is known as **nested list**. More about nested lists you can read here: https://www.learnbyexample.org/python-nested-list/ "
   ]
  },
  {
   "cell_type": "markdown",
   "metadata": {},
   "source": [
    "Useful lists in data science are lists of:\n",
    "\n",
    "- dates\n",
    "- DataFrame\n",
    "- values you want to use later in your analysis"
   ]
  },
  {
   "cell_type": "markdown",
   "metadata": {
    "slideshow": {
     "slide_type": "slide"
    }
   },
   "source": [
    "## Tuples  \n",
    "\n",
    "**Tuple** is a sequence data type that is similar to the list (tuple is also a collection that is ordered (items are stored in a particular order) and indexed (meaning that you can access specific items by referring to an index).  \n",
    "\n",
    "A tuple contains items separated by **commas** and enclosed within **parenthesis ( )**. \n",
    "\n",
    "Items in one tuple can be of different data type and tuple allow duplicate members. However, **tuples are immutable** - they cannot be changed (we can't add new items, delete or change some of the existing items etc). "
   ]
  },
  {
   "cell_type": "code",
   "execution_count": null,
   "metadata": {
    "slideshow": {
     "slide_type": "slide"
    }
   },
   "outputs": [],
   "source": [
    "# Creating  some tuples \n",
    "\n",
    "tuple1 = ('abcd', 32.32, 'Mike', 17, 'lala') # tuple with different data types\n",
    "\n",
    "print(tuple1)"
   ]
  },
  {
   "cell_type": "code",
   "execution_count": null,
   "metadata": {
    "slideshow": {
     "slide_type": "slide"
    }
   },
   "outputs": [],
   "source": [
    "# so the only difference between creating list and tuple is the type of brackets \n",
    "\n",
    "mylist = ['abcd', 32.32, 'Mike', 17, 'lala'] # square brackets for lists\n",
    "\n",
    "mytuple = ('abcd', 32.32, 'Mike', 17, 'lala') # parenthesis for tuples\n",
    "\n",
    "print(\"List:\", mylist)\n",
    "print(\"Tuple:\", mytuple)\n",
    "\n",
    "print(\"\")\n",
    "\n",
    "print(\"My list is\", type(mylist))\n",
    "print(\"My tuple is\", type(mytuple))"
   ]
  },
  {
   "cell_type": "code",
   "execution_count": null,
   "metadata": {
    "slideshow": {
     "slide_type": "slide"
    }
   },
   "outputs": [],
   "source": [
    "# However, tuples are immutable \n",
    "\n",
    "# that means we can't add new elements, replace existing elements, delete elements, sort our tuple... \n",
    "\n",
    "mytuple.append('Ellie')"
   ]
  },
  {
   "cell_type": "code",
   "execution_count": null,
   "metadata": {
    "slideshow": {
     "slide_type": "slide"
    }
   },
   "outputs": [],
   "source": [
    "# We can convert list to tuple and tuple to list \n",
    "\n",
    "# start by creating one list and one tuple\n",
    "\n",
    "mylist = ['abcd', 32.32, 'Mike', 17, 'lala']\n",
    "\n",
    "tuple(mylist) # converting list to tuple"
   ]
  },
  {
   "cell_type": "markdown",
   "metadata": {
    "slideshow": {
     "slide_type": "slide"
    }
   },
   "source": [
    "## Range \n",
    "\n",
    "**Range** is an ordered and indexed sequence of **numbers** (meaning that items are stored in a particular order and you can access specific items by referring to an index).\n",
    "\n",
    "The **range()** function returns a sequence of numbers, starting from 0 by default, and increments by 1 (by default), and stops before a specified number.\n",
    "\n",
    "Range() function has three parameters: \n",
    "\n",
    "- **start**\tis an integer that specifies at which position to start. Default is 0\n",
    "- **stop** is an integer that specifies at which position to stop (not included).\n",
    "- **step** is an integer that specifies the incrementation. Default is 1\n",
    "\n",
    "The only required parameter is **stop**, the other two are optional. \n"
   ]
  },
  {
   "cell_type": "code",
   "execution_count": null,
   "metadata": {
    "slideshow": {
     "slide_type": "slide"
    }
   },
   "outputs": [],
   "source": [
    "range1 = range(10) # first 10 numbers - from 0 to 9\n",
    "\n",
    "range2 = range(1, 11) # numbers from 1 to 11 - last number is excluded  \n",
    "\n",
    "range3 = range(1, 20, 2) # numbers from 1 to 19 but every second number \n",
    "\n",
    "print(range1)\n",
    "print(range2)\n",
    "print(range3)"
   ]
  },
  {
   "cell_type": "code",
   "execution_count": null,
   "metadata": {
    "slideshow": {
     "slide_type": "slide"
    }
   },
   "outputs": [],
   "source": [
    "# we can convert range into a list \n",
    "\n",
    "print(list(range1))\n",
    "print(list(range2))\n",
    "print(list(range3))"
   ]
  },
  {
   "cell_type": "code",
   "execution_count": null,
   "metadata": {
    "slideshow": {
     "slide_type": "slide"
    }
   },
   "outputs": [],
   "source": [
    "# but we can't convert list to range \n",
    "\n",
    "mylist = [0, 1, 2, 3, 4, 5]\n",
    "\n",
    "myrange = range(mylist) "
   ]
  },
  {
   "cell_type": "code",
   "execution_count": null,
   "metadata": {
    "slideshow": {
     "slide_type": "slide"
    }
   },
   "outputs": [],
   "source": [
    "# we can't append new elements to the range \n",
    "\n",
    "range1.append(10)\n",
    "\n",
    "# we can't change the elements in the range\n",
    "\n",
    "range3[5] = 10"
   ]
  },
  {
   "cell_type": "markdown",
   "metadata": {},
   "source": [
    "### How do we use range\n",
    "\n",
    "We can for instance use range to repeat something. Say we want to repeat something 5 times then we can use range to keep track of that.\n",
    "Or we can use range to iterate through a given number of elements"
   ]
  },
  {
   "cell_type": "markdown",
   "metadata": {
    "slideshow": {
     "slide_type": "slide"
    }
   },
   "source": [
    "# Dictionary \n",
    "\n",
    "A **dictionary** is a mapping data type in Python, used to store key-values pairs. \n",
    "\n",
    "Dictionaries are enclosed by **curly brackets { }** and values can be assigned and accessed using **square brackets [ ]**."
   ]
  },
  {
   "cell_type": "code",
   "execution_count": null,
   "metadata": {
    "slideshow": {
     "slide_type": "slide"
    }
   },
   "outputs": [],
   "source": [
    "person1 = {'name': 'Lars Larsen', 'city': 'Oslo', 'salary': 780000, 'tax2020': 310000} \n",
    "\n",
    "print(person1)\n",
    "\n",
    "print(type(person1))"
   ]
  },
  {
   "cell_type": "code",
   "execution_count": null,
   "metadata": {
    "slideshow": {
     "slide_type": "slide"
    }
   },
   "outputs": [],
   "source": [
    "# It is also possible to use the dict() constructor to make a new dictionary:\n",
    "\n",
    "person2 = dict(name='Helga Hansen', city='Stavanger', salary=940000, tax2020=450000)\n",
    "\n",
    "# in this case, keywords are not strings and to assign values to keys we now use \n",
    "# equals rather than colon \n",
    "\n",
    "print(person2)\n",
    "\n",
    "print(type(person2))"
   ]
  },
  {
   "cell_type": "code",
   "execution_count": null,
   "metadata": {
    "slideshow": {
     "slide_type": "slide"
    }
   },
   "outputs": [],
   "source": [
    "print(\"Keys are:\", person1.keys())\n",
    "\n",
    "print(\"Values are:\", person1.values())\n",
    "\n",
    "print(\"Items are:\", person1.items())"
   ]
  },
  {
   "cell_type": "code",
   "execution_count": null,
   "metadata": {
    "slideshow": {
     "slide_type": "slide"
    }
   },
   "outputs": [],
   "source": [
    "# You can access the items of a dictionary by referring to its key name, inside square brackets:\n",
    "    \n",
    "print(person2['name'])"
   ]
  },
  {
   "cell_type": "code",
   "execution_count": null,
   "metadata": {},
   "outputs": [],
   "source": [
    "person2[\"city\"]"
   ]
  },
  {
   "cell_type": "code",
   "execution_count": null,
   "metadata": {
    "slideshow": {
     "slide_type": "slide"
    }
   },
   "outputs": [],
   "source": [
    "# You can change the value of a specific item by referring to its key name \n",
    "\n",
    "# if we want to change the city from Stavanger to Bergen \n",
    "\n",
    "# and name from Helga Hansen to Helga Olsen \n",
    "\n",
    "print(\"Old dictionary:\", person2)\n",
    "\n",
    "person2['city'] = 'Bergen'\n",
    "\n",
    "person2['name'] = 'Helga Olsen'\n",
    "\n",
    "print(\"New dictionary:\", person2)"
   ]
  },
  {
   "cell_type": "code",
   "execution_count": null,
   "metadata": {
    "slideshow": {
     "slide_type": "slide"
    }
   },
   "outputs": [],
   "source": [
    "# we can add an item to the dictionary by using a new index key and assigning a value to it\n",
    "\n",
    "print(\"Old dictionary:\", person2)\n",
    "\n",
    "person2[\"Children\"] = 2\n",
    "\n",
    "print(\"New dictionary:\", person2)"
   ]
  },
  {
   "cell_type": "code",
   "execution_count": null,
   "metadata": {
    "slideshow": {
     "slide_type": "slide"
    }
   },
   "outputs": [],
   "source": [
    "# we can remove an item from the dictionary with the pop() method or with del keyword\n",
    "\n",
    "print(\"Old dictionary:\", person1)\n",
    "\n",
    "person1.pop('salary')\n",
    "\n",
    "print(\"Newer dictionary:\", person1)\n",
    "\n",
    "del person1[\"tax2020\"]\n",
    "\n",
    "print(\"Newest dictionary:\", person1)\n"
   ]
  },
  {
   "cell_type": "code",
   "execution_count": null,
   "metadata": {
    "slideshow": {
     "slide_type": "slide"
    }
   },
   "outputs": [],
   "source": [
    "# clear() method will empty the dictionary\n",
    "\n",
    "person1.clear()\n",
    "\n",
    "print(person1)\n"
   ]
  },
  {
   "cell_type": "code",
   "execution_count": null,
   "metadata": {},
   "outputs": [],
   "source": [
    "\n",
    "# del keyword can also delete entire dictionary\n",
    "\n",
    "del person1\n",
    "\n",
    "print(person1) # this will give us an error because \"person1\" is deleted"
   ]
  },
  {
   "cell_type": "markdown",
   "metadata": {
    "slideshow": {
     "slide_type": "slide"
    }
   },
   "source": [
    "### Nested Dictionaries\n",
    "\n",
    "A dictionary can also contain many dictionaries - this is called **nested dictionaries**. \n",
    "\n",
    "More about nested dictionaries can be found here: https://www.learnbyexample.org/python-nested-dictionary/\n"
   ]
  },
  {
   "cell_type": "markdown",
   "metadata": {
    "slideshow": {
     "slide_type": "slide"
    }
   },
   "source": [
    "```python\n",
    "import requests\n",
    "\n",
    "lat, lon = 59.915, 10.803\n",
    "out = requests.get(\n",
    "    f\"https://api.met.no/weatherapi/nowcast/2.0/complete?lat={lat}&lon={lon}\",\n",
    "    headers={'Accept': 'application/json', 'User-Agent': 'Pythonkurs'}\n",
    ").json()\n",
    "print(out)\n",
    "```"
   ]
  },
  {
   "cell_type": "code",
   "execution_count": null,
   "metadata": {},
   "outputs": [],
   "source": [
    "out = {'type': 'Feature', 'geometry': {'type': 'Point', 'coordinates': [10.803, 59.915, 85]}, 'properties': {'meta': {'updated_at': '2022-11-07T20:09:34Z', 'units': {'air_temperature': 'celsius', 'precipitation_amount': 'mm', 'precipitation_rate': 'mm/h', 'relative_humidity': '%', 'wind_from_direction': 'degrees', 'wind_speed': 'm/s', 'wind_speed_of_gust': 'm/s'}, 'radar_coverage': 'ok'}, 'timeseries': [{'time': '2022-11-07T20:10:00Z', 'data': {'instant': {'details': {'air_temperature': 5.8, 'precipitation_rate': 0.0, 'relative_humidity': 93.6, 'wind_from_direction': 162.0, 'wind_speed': 1.0, 'wind_speed_of_gust': 2.0}}, 'next_1_hours': {'summary': {'symbol_code': 'fair_night'}, 'details': {'precipitation_amount': 0.0}}}}, {'time': '2022-11-07T20:15:00Z', 'data': {'instant': {'details': {'precipitation_rate': 0.0}}}}, {'time': '2022-11-07T20:20:00Z', 'data': {'instant': {'details': {'precipitation_rate': 0.0}}}}, {'time': '2022-11-07T20:25:00Z', 'data': {'instant': {'details': {'precipitation_rate': 0.0}}}}, {'time': '2022-11-07T20:30:00Z', 'data': {'instant': {'details': {'precipitation_rate': 0.0}}}}, {'time': '2022-11-07T20:35:00Z', 'data': {'instant': {'details': {'precipitation_rate': 0.0}}}}, {'time': '2022-11-07T20:40:00Z', 'data': {'instant': {'details': {'precipitation_rate': 0.0}}}}, {'time': '2022-11-07T20:45:00Z', 'data': {'instant': {'details': {'precipitation_rate': 0.0}}}}, {'time': '2022-11-07T20:50:00Z', 'data': {'instant': {'details': {'precipitation_rate': 0.0}}}}, {'time': '2022-11-07T20:55:00Z', 'data': {'instant': {'details': {'precipitation_rate': 0.0}}}}, {'time': '2022-11-07T21:00:00Z', 'data': {'instant': {'details': {'precipitation_rate': 0.0}}}}, {'time': '2022-11-07T21:05:00Z', 'data': {'instant': {'details': {'precipitation_rate': 0.0}}}}, {'time': '2022-11-07T21:10:00Z', 'data': {'instant': {'details': {'precipitation_rate': 0.0}}}}, {'time': '2022-11-07T21:15:00Z', 'data': {'instant': {'details': {'precipitation_rate': 0.0}}}}, {'time': '2022-11-07T21:20:00Z', 'data': {'instant': {'details': {'precipitation_rate': 0.0}}}}, {'time': '2022-11-07T21:25:00Z', 'data': {'instant': {'details': {'precipitation_rate': 0.0}}}}, {'time': '2022-11-07T21:30:00Z', 'data': {'instant': {'details': {'precipitation_rate': 0.0}}}}, {'time': '2022-11-07T21:35:00Z', 'data': {'instant': {'details': {'precipitation_rate': 0.0}}}}, {'time': '2022-11-07T21:40:00Z', 'data': {'instant': {'details': {'precipitation_rate': 0.0}}}}, {'time': '2022-11-07T21:45:00Z', 'data': {'instant': {'details': {'precipitation_rate': 0.0}}}}, {'time': '2022-11-07T21:50:00Z', 'data': {'instant': {'details': {'precipitation_rate': 0.0}}}}, {'time': '2022-11-07T21:55:00Z', 'data': {'instant': {'details': {'precipitation_rate': 0.0}}}}, {'time': '2022-11-07T22:00:00Z', 'data': {'instant': {'details': {'precipitation_rate': 0.0}}}}]}}\n",
    "out"
   ]
  },
  {
   "cell_type": "code",
   "execution_count": null,
   "metadata": {
    "tags": []
   },
   "outputs": [],
   "source": [
    "out[\"geometry\"]"
   ]
  },
  {
   "cell_type": "code",
   "execution_count": null,
   "metadata": {},
   "outputs": [],
   "source": [
    "out[\"geometry\"][\"type\"]"
   ]
  },
  {
   "cell_type": "markdown",
   "metadata": {
    "slideshow": {
     "slide_type": "slide"
    }
   },
   "source": [
    "## Set Data types\n",
    "\n",
    "We have two set data types in Python: \n",
    "\n",
    "- set\n",
    "- frozenset\n",
    "\n",
    "Both **set** and **frozenset** is a collection which is unordered (meaning that you cannot rely on the the elements being in any particular order) and unindexed (meaning that you cannot access items by referring to an index). Set items are unique, meaning that duplicate items are not allowed.\n",
    "\n",
    "Difference between set and frozenset are at sets are mutable, and frozensets are not - meaning that we can modify sets (for example add new items or remove some items from the set), but we cannot modity frozensets. \n",
    "\n"
   ]
  },
  {
   "cell_type": "code",
   "execution_count": null,
   "metadata": {
    "slideshow": {
     "slide_type": "slide"
    }
   },
   "outputs": [],
   "source": [
    "# we create a set by listing all the items within curly brackets \n",
    "\n",
    "shopping_list = {'Oranges', 'Milk', 'Bread'}\n",
    "\n",
    "print(shopping_list) \n",
    "print(type(shopping_list))\n"
   ]
  },
  {
   "cell_type": "code",
   "execution_count": null,
   "metadata": {
    "slideshow": {
     "slide_type": "slide"
    }
   },
   "outputs": [],
   "source": [
    "mixed = {1701, 'oranges', 1.23, 4+7j, (14, 18)} # A set of mixed datatypes\n",
    "\n",
    "print(mixed)"
   ]
  },
  {
   "cell_type": "code",
   "execution_count": null,
   "metadata": {
    "slideshow": {
     "slide_type": "slide"
    }
   },
   "outputs": [],
   "source": [
    "# We can't have duplicated values in the set - they will be automatically removed \n",
    "# during the creation of a set\n",
    "\n",
    "shopping_list = {'Oranges', 'Milk', 'Bread', 'Oranges'}\n",
    "\n",
    "print(shopping_list) # 'Oranges' only apearing once \n"
   ]
  },
  {
   "cell_type": "code",
   "execution_count": null,
   "metadata": {
    "slideshow": {
     "slide_type": "slide"
    }
   },
   "outputs": [],
   "source": [
    "# sets are mutable - these are some of the ways we can modify them \n",
    "\n",
    "shopping_list = {'Oranges', 'Milk', 'Bread'} # crate new set in Python\n",
    "\n",
    "print(shopping_list, '\\n')\n",
    "\n",
    "shopping_list.add('Butter') # add new item to the set\n",
    "\n",
    "print(shopping_list, '\\n')\n",
    "\n",
    "shopping_list.update(['Potatoes', 'Chicken', 'Cucumbers']) # add multiple new items to the set \n",
    "\n",
    "print(shopping_list, '\\n')\n",
    "\n",
    "shopping_list.remove('Milk') # remove item from the set \n",
    "\n",
    "print(shopping_list, '\\n')\n",
    "\n",
    "shopping_list.discard('Oranges') # another way to remove item from the set \n",
    "\n",
    "print(shopping_list, '\\n')\n",
    "\n",
    "shopping_list.clear() # delete all items from the set \n",
    "\n",
    "print(shopping_list, '\\n')\n",
    "\n",
    "del shopping_list # delete entire set \n"
   ]
  },
  {
   "cell_type": "code",
   "execution_count": null,
   "metadata": {},
   "outputs": [],
   "source": [
    "a = {1, 2, 3}\n",
    "b = {1, 2}\n",
    "\n",
    "a.intersection(b)"
   ]
  },
  {
   "cell_type": "code",
   "execution_count": null,
   "metadata": {
    "tags": []
   },
   "outputs": [],
   "source": [
    "a.difference(b)"
   ]
  },
  {
   "cell_type": "code",
   "execution_count": null,
   "metadata": {
    "tags": []
   },
   "outputs": [],
   "source": [
    "a.issuperset(b)"
   ]
  },
  {
   "cell_type": "markdown",
   "metadata": {
    "slideshow": {
     "slide_type": "slide"
    }
   },
   "source": [
    "## Boolean data type\n",
    "\n",
    "In programming you often need to know if an expression is True or False.\n",
    "\n",
    "You can evaluate any expression in Python, and get one of two answers, True or False."
   ]
  },
  {
   "cell_type": "code",
   "execution_count": null,
   "metadata": {
    "slideshow": {
     "slide_type": "slide"
    }
   },
   "outputs": [],
   "source": [
    "# When you compare two values, the expression is evaluated and Python returns the Boolean answer.\n",
    "\n",
    "# for example, if you want to evaluate if 1 is less than 3:\n",
    "\n",
    "10 < 3"
   ]
  },
  {
   "cell_type": "code",
   "execution_count": null,
   "metadata": {
    "slideshow": {
     "slide_type": "slide"
    }
   },
   "outputs": [],
   "source": [
    "x = 1 < 5 # you can save it as a variable \n",
    "\n",
    "print(x)"
   ]
  },
  {
   "cell_type": "code",
   "execution_count": null,
   "metadata": {
    "slideshow": {
     "slide_type": "slide"
    }
   },
   "outputs": [],
   "source": [
    "print(type(x))"
   ]
  },
  {
   "cell_type": "markdown",
   "metadata": {
    "tags": []
   },
   "source": [
    "## What did we do\n",
    "* **Numeric Types**:\tint, float, complex\n",
    "    - 3\n",
    "    - 1.23\n",
    "    - 5 + 20j\n",
    "* **Text Type**: str\n",
    "    - \"This is a string\"\n",
    "* **Sequence Types**:\tlist, tuple, range\n",
    "    - [\"this\", \"is\", \"a\", \"list\"]\n",
    "* **Mapping Type**:\tdict\n",
    "    - {\"name\": \"Hans Hansen\", \"country\": \"Norway\"}\n",
    "* **Set Types**:    \tset, frozenset\n",
    "    - {\"this\", \"is\", \"a\", \"set\"}\n",
    "* **Boolean Type**:\tbool\n",
    "    - True\n",
    "    - False"
   ]
  },
  {
   "cell_type": "code",
   "execution_count": null,
   "metadata": {
    "tags": []
   },
   "outputs": [],
   "source": [
    "number_of_pets = 4 # Integer\n",
    "kg_of_food = 3.54 # Float\n",
    "name_of_owner = \"hans hansen\" # String\n",
    "name_of_pets = [\"fido\", \"roger\", \"rex\", \"tiger\"] # List\n",
    "\n",
    "pet_owner = {\"owner\": name_of_owner, \"pets\": number_of_pets, \"pets_name\": name_of_pets} # Dict\n",
    "\n",
    "boolean_value = True # Boolean"
   ]
  }
 ],
 "metadata": {
  "celltoolbar": "Slideshow",
  "kernelspec": {
   "display_name": "Python 3 (ipykernel)",
   "language": "python",
   "name": "python3"
  },
  "language_info": {
   "codemirror_mode": {
    "name": "ipython",
    "version": 3
   },
   "file_extension": ".py",
   "mimetype": "text/x-python",
   "name": "python",
   "nbconvert_exporter": "python",
   "pygments_lexer": "ipython3",
   "version": "3.11.4"
  }
 },
 "nbformat": 4,
 "nbformat_minor": 4
}
