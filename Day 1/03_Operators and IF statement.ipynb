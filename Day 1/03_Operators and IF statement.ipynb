{
 "cells": [
  {
   "cell_type": "markdown",
   "metadata": {
    "slideshow": {
     "slide_type": "slide"
    }
   },
   "source": [
    "# Operators \n",
    "\n",
    "\n",
    "Operators are used to perform operations on variables and values.\n",
    "\n",
    "So far we worked with **Arithmetic operators** (like +, -, * ) and **Assigment operators** (like =, +=, -= ).\n",
    "\n",
    "\n",
    "\n",
    "## Comparison Operators\n",
    "\n",
    "**Comparison operators** are used to compare if two values are:\n",
    "\n",
    "- Equal     `x == y`\n",
    "- Not equal     `x != y`\t\n",
    "- Greater than     `x > y`\n",
    "- Less than     `x < y`\t\n",
    "- Greater than or equal to    ` x >= y`\n",
    "- Less than or equal to     `x <= y`"
   ]
  },
  {
   "cell_type": "code",
   "execution_count": null,
   "metadata": {
    "slideshow": {
     "slide_type": "slide"
    }
   },
   "outputs": [],
   "source": [
    "x = 5\n",
    "y = 10 \n",
    "\n",
    "print(f\"x equals y is: {x == y}\")\n",
    "print(f\"x not equal y is: {x != y}\")\n",
    "print(f\"x greater than y is: {x > y}\")\n",
    "print(f\"x less than y is: {x < y}\")\n",
    "print(f\"x greater than or equal to y is: {x >= y}\")\n",
    "print(f\"x less than or equal to y is: {x <= y}\")"
   ]
  },
  {
   "cell_type": "markdown",
   "metadata": {
    "slideshow": {
     "slide_type": "slide"
    }
   },
   "source": [
    "## Logical Operators\n",
    "\n",
    "**Logical operators** are used to combine conditional statements:\n",
    "\n",
    "- **and** -\tReturns _True_ if both statements are true ( `x > 10 and  x < 20`\t)\n",
    "- **or** - Returns _True_ if one of the statements is true ( `x < 5 or x > 14` )\t\n",
    "- **not** - Reverse the result, returns _False_ if the result is _True_\t ( `not (x < 5 or x > 10)`)"
   ]
  },
  {
   "cell_type": "code",
   "execution_count": null,
   "metadata": {
    "slideshow": {
     "slide_type": "slide"
    }
   },
   "outputs": [],
   "source": [
    "x = 15\n",
    "\n",
    "print(x > 10 and x < 20)\n",
    "print(x < 5 or x > 14)\n",
    "print(not (x < 5 or x > 10))"
   ]
  },
  {
   "cell_type": "markdown",
   "metadata": {
    "slideshow": {
     "slide_type": "slide"
    }
   },
   "source": [
    "## Identity Operators\n",
    "\n",
    "\n",
    "**Identity operators** are used to compare the objects, not if they are equal, but if they are actually the same object, with the same memory location:\n",
    "\n",
    "- **is** - Returns _True_ if both variables are the same object ( `x is y` )\n",
    "- **is not** - Returns _True_ if both variables are not the same object ( `x is not y` ) "
   ]
  },
  {
   "cell_type": "code",
   "execution_count": null,
   "metadata": {
    "slideshow": {
     "slide_type": "slide"
    }
   },
   "outputs": [],
   "source": [
    "x = 5\n",
    "y = 5\n",
    "x is y"
   ]
  },
  {
   "cell_type": "code",
   "execution_count": null,
   "metadata": {
    "slideshow": {
     "slide_type": "slide"
    }
   },
   "outputs": [],
   "source": [
    "a = 5\n",
    "b = 10 \n",
    "a is not b"
   ]
  },
  {
   "cell_type": "code",
   "execution_count": null,
   "metadata": {
    "slideshow": {
     "slide_type": "slide"
    }
   },
   "outputs": [],
   "source": [
    "x = 5\n",
    "y = 5.0\n",
    "\n",
    "print(f\"x is y: {x is y}\") \n",
    "print(f\"x equals y: {x == y}\") "
   ]
  },
  {
   "cell_type": "markdown",
   "metadata": {
    "slideshow": {
     "slide_type": "slide"
    }
   },
   "source": [
    "## Membership Operators\n",
    "\n",
    "**Membership operators** are used to test if a sequence is presented in an object:\n",
    "\n",
    "- **in** - Returns _True_ if a sequence with the specified value is present in the object (`x in y`)\n",
    "- **not in** - Returns _True_ if a sequence with the specified value is not present in the object\t(`x not in y`)"
   ]
  },
  {
   "cell_type": "code",
   "execution_count": null,
   "metadata": {
    "slideshow": {
     "slide_type": "slide"
    }
   },
   "outputs": [],
   "source": [
    "cars = {'Audi', 'BMW', 'Toyota', 'Volvo'}\n",
    "\n",
    "print('Audi' in cars) "
   ]
  },
  {
   "cell_type": "code",
   "execution_count": null,
   "metadata": {
    "slideshow": {
     "slide_type": "slide"
    }
   },
   "outputs": [],
   "source": [
    "print('Ford' in cars) "
   ]
  },
  {
   "cell_type": "code",
   "execution_count": null,
   "metadata": {
    "slideshow": {
     "slide_type": "slide"
    }
   },
   "outputs": [],
   "source": [
    "print('Ford' not in cars ) "
   ]
  },
  {
   "cell_type": "markdown",
   "metadata": {
    "slideshow": {
     "slide_type": "slide"
    }
   },
   "source": [
    "# IF - ELSE - ELIF statements\n",
    "\n",
    "All these operators above can be used in several ways, but most commonly we use them in **\"if statements\"** and **loops**.\n",
    "\n",
    "In programming, you often need to examine a set of conditions and decide which action to take based on those conditions. "
   ]
  },
  {
   "cell_type": "markdown",
   "metadata": {
    "slideshow": {
     "slide_type": "slide"
    }
   },
   "source": [
    "### IF statement \n",
    "\n",
    "An \"if statement\" is written by using the `if` keyword. We use `if` statement to tell Python what to do if condition is true. "
   ]
  },
  {
   "cell_type": "code",
   "execution_count": null,
   "metadata": {
    "slideshow": {
     "slide_type": "slide"
    }
   },
   "outputs": [],
   "source": [
    "# Creating an if statement that checks if number x is greater than number y and if it is, it prints \"x is greater than y\"\n",
    "# first we assign our varibles x and y \n",
    "\n",
    "\n",
    "\n",
    "\n",
    "# and then we create if statement \n",
    "\n",
    "\n"
   ]
  },
  {
   "cell_type": "code",
   "execution_count": null,
   "metadata": {
    "slideshow": {
     "slide_type": "slide"
    }
   },
   "outputs": [],
   "source": [
    "# let's try again, with different x and y \n",
    "\n",
    "x = 100\n",
    "y = 500\n",
    "\n",
    "if x > y:\n",
    "    print(\"x is greater than y\") # now the condition is false, so we don't get an output "
   ]
  },
  {
   "cell_type": "markdown",
   "metadata": {
    "slideshow": {
     "slide_type": "slide"
    }
   },
   "source": [
    "There are some things you need to be careful about. \n",
    "\n",
    "- if needs to be lowercase (IF will not work)\n",
    "- don't forget colon (:) after yout condition\n",
    "- indentation is super important"
   ]
  },
  {
   "cell_type": "code",
   "execution_count": null,
   "metadata": {
    "slideshow": {
     "slide_type": "slide"
    }
   },
   "outputs": [],
   "source": [
    "x = 100\n",
    "y = 500\n",
    "\n",
    "IF x > y:\n",
    "    print(\"x is greater than y\") # IF is not the same as if "
   ]
  },
  {
   "cell_type": "code",
   "execution_count": null,
   "metadata": {
    "slideshow": {
     "slide_type": "slide"
    }
   },
   "outputs": [],
   "source": [
    "x = 100\n",
    "y = 500\n",
    "\n",
    "if x > y\n",
    "    print(\"x is greater than y\") # we're missing collon here"
   ]
  },
  {
   "cell_type": "code",
   "execution_count": null,
   "metadata": {
    "slideshow": {
     "slide_type": "slide"
    }
   },
   "outputs": [],
   "source": [
    "x = 100\n",
    "y = 500\n",
    "\n",
    "if x > y:\n",
    "print(\"x is greater than y\") # expected an indented block "
   ]
  },
  {
   "cell_type": "code",
   "execution_count": null,
   "metadata": {
    "slideshow": {
     "slide_type": "slide"
    }
   },
   "outputs": [],
   "source": [
    "# You should be very careful with indentation\n",
    "\n",
    "x = 100\n",
    "y = 500\n",
    "\n",
    "if x > y:\n",
    "    print(\"x is greater than y\") # this print is within if statement\n",
    "print('x is awesome') # this print is outside if statement\n"
   ]
  },
  {
   "cell_type": "code",
   "execution_count": null,
   "metadata": {
    "slideshow": {
     "slide_type": "slide"
    }
   },
   "outputs": [],
   "source": [
    "# You should be very careful with indentation\n",
    "\n",
    "x = 1000\n",
    "y = 500\n",
    "\n",
    "if x > y:\n",
    "    print(\"x is greater than y\") # this print is within if statement\n",
    "print('x is awesome') # this print is outside if statement"
   ]
  },
  {
   "cell_type": "code",
   "execution_count": null,
   "metadata": {
    "slideshow": {
     "slide_type": "slide"
    }
   },
   "outputs": [],
   "source": [
    "# We can also check multiple statements \n",
    "\n",
    "x = 15\n",
    "\n",
    "if x > 5 and x < 50:\n",
    "    print(\"x is cool\")"
   ]
  },
  {
   "cell_type": "code",
   "execution_count": null,
   "metadata": {
    "slideshow": {
     "slide_type": "slide"
    }
   },
   "outputs": [],
   "source": [
    "# we can use different operators as conditions in if statements\n",
    "\n",
    "# checking if item is in the set \n",
    "\n",
    "companies = {'Microsoft', 'Google', 'IBM', 'YouTube', 'Yahoo'}\n",
    "\n",
    "# check if 'Yahoo' is in our set and if it is print \"Yahoo is here! Woohoo!\"\n",
    "\n",
    "# check if 'Spotify' is not in our set and if it is not, print \"Spotify is missing!\"\n",
    "\n",
    "if 'Yahoo' in companies:\n",
    "    print(\"Yahoo is here! Woohoo!\")\n",
    "    \n",
    "if 'Spotify' not in companies: \n",
    "    print(\"Spotify is missing!\")\n"
   ]
  },
  {
   "cell_type": "markdown",
   "metadata": {
    "slideshow": {
     "slide_type": "slide"
    }
   },
   "source": [
    "### if-else statement \n",
    "\n",
    "In all of our example so far we had: `if condition is True do something`.\n",
    "\n",
    "Howerver, often we want to take one action when a conditional test passes (condition is true) and a different if test fails (condition is false). \n",
    "\n",
    "Python’s **if-else syntax** makes this possible. \n",
    "\n",
    "An if-else block is similar to a simple if statement, but the else statement allows you to define an action or set of actions that are executed when the conditional test fails.\n"
   ]
  },
  {
   "cell_type": "code",
   "execution_count": null,
   "metadata": {
    "slideshow": {
     "slide_type": "slide"
    }
   },
   "outputs": [],
   "source": [
    "# So far we had:\n",
    "\n",
    "x = 1\n",
    "y = 2\n",
    "\n",
    "if x == y:\n",
    "    print(\"x and y are the same\") # Nothing happens because the condition is false \n",
    "    "
   ]
  },
  {
   "cell_type": "code",
   "execution_count": null,
   "metadata": {
    "slideshow": {
     "slide_type": "slide"
    }
   },
   "outputs": [],
   "source": [
    "# one thing we can do is to write two if statements:\n",
    "\n",
    "if x == y:\n",
    "    print(\"x and y are the same\")\n",
    "if x != y:\n",
    "    print(\"x and y are different\")"
   ]
  },
  {
   "cell_type": "code",
   "execution_count": null,
   "metadata": {
    "slideshow": {
     "slide_type": "slide"
    }
   },
   "outputs": [],
   "source": [
    "# better thing to do in Python is to use if-else statement \n",
    "\n",
    "if x == y:\n",
    "    print(\"x and y are the same\")\n",
    "else:\n",
    "    print(\"x and y are different\")"
   ]
  },
  {
   "cell_type": "code",
   "execution_count": null,
   "metadata": {
    "slideshow": {
     "slide_type": "slide"
    }
   },
   "outputs": [],
   "source": [
    "# let's say we have very simple tax calculation, \n",
    "# where if you earn less than 100000, you don't need to pay tax, otherwise, your tax is 35%\n",
    "\n",
    "salary = 100000 \n",
    "\n",
    "if salary <= 100000:\n",
    "    print(\"you don't need to pay tax\")\n",
    "else: \n",
    "    print(\"your tax is 35%\")"
   ]
  },
  {
   "cell_type": "markdown",
   "metadata": {
    "slideshow": {
     "slide_type": "slide"
    }
   },
   "source": [
    "### if-elif-else statement \n",
    "\n",
    "Often, you’ll need to test more than two possible situations, and to evaluate these you can use Python’s **if-elif-else syntax**. \n",
    "\n",
    "Python executes only one block in an if-elif-else chain. \n",
    "\n",
    "It runs each conditional test in order until one passes. \n",
    "\n",
    "When a test passes, the code following that test is executed and Python skips the rest of the tests.\n"
   ]
  },
  {
   "cell_type": "code",
   "execution_count": null,
   "metadata": {
    "slideshow": {
     "slide_type": "slide"
    }
   },
   "outputs": [],
   "source": [
    "# let's try creating little more complex tax calculation\n",
    "\n",
    "salary = 700000\n",
    "\n",
    "if salary < 50000:\n",
    "    print(\"you don't need to pay tax\")\n",
    "elif salary < 200000: \n",
    "    print(\"your tax is 14%\")\n",
    "elif salary < 400000: \n",
    "    print(\"your tax is 26%\")\n",
    "elif salary < 800000: \n",
    "    print(\"your tax is 39%\")\n",
    "elif salary < 1200000: \n",
    "    print(\"your tax is 45%\")\n",
    "else:    \n",
    "    print(\"your tax is 52%\")\n"
   ]
  },
  {
   "cell_type": "code",
   "execution_count": null,
   "metadata": {
    "slideshow": {
     "slide_type": "slide"
    }
   },
   "outputs": [],
   "source": [
    "# what would happen if we use just used if\n",
    "\n",
    "salary = 700000\n",
    "\n",
    "if salary < 50000:\n",
    "    print(\"you don't need to pay tax\")\n",
    "if salary < 200000: \n",
    "    print(\"your tax is 14%\") \n",
    "if salary < 400000: \n",
    "    print(\"your tax is 26%\")   \n",
    "if salary < 800000: \n",
    "    print(\"your tax is 39%\")   \n",
    "if salary < 1200000: \n",
    "    print(\"your tax is 45%\")\n",
    "else:    \n",
    "    print(\"your tax is 52%\")\n"
   ]
  },
  {
   "cell_type": "markdown",
   "metadata": {
    "slideshow": {
     "slide_type": "slide"
    }
   },
   "source": [
    "#### Testing Multiple Conditions\n",
    "\n",
    "However, this doesn't mean you should ALWAYS use the if-elif-else sintax. \n",
    "\n",
    "The if-elif-else is only appropriate to use when you just need **one** test to pass. As soon as Python finds one test that passes, it will skip the rest of the tests. \n",
    "\n",
    "But sometimes it’s important to check all of the conditions of interest. In this case, you should use a series of simple if statements with no elif or else blocks. \n",
    "\n",
    "You should use multiple if statemenst when more than one condition could be True, and you want to act on every condition that is True. \n"
   ]
  },
  {
   "cell_type": "code",
   "execution_count": null,
   "metadata": {
    "slideshow": {
     "slide_type": "slide"
    }
   },
   "outputs": [],
   "source": [
    "# let's say you're throwing dinner parties for your friends every Friday\n",
    "\n",
    "# some of your friends have specific food requirements \n",
    "\n",
    "# John is a vegetarian, Phil is allergic to nuts and Alice doesn't like seafood \n",
    "\n",
    "dinner_list = ['Dave', 'John', 'Phil', 'Daisy', 'Mark', 'Alice']\n",
    "\n",
    "if 'John' in dinner_list:\n",
    "    print('John is coming - make vegetarian food')\n",
    "elif 'Phil' in dinner_list: \n",
    "    print('Phil is coming - no nuts in food')\n",
    "elif 'Alice' in dinner_list: \n",
    "    print('Alice is coming - no seafood')\n",
    "else:\n",
    "    print(\"make whatever you want\")"
   ]
  },
  {
   "cell_type": "code",
   "execution_count": null,
   "metadata": {
    "slideshow": {
     "slide_type": "slide"
    }
   },
   "outputs": [],
   "source": [
    "# Python found one test that passed (John is in the DinnerList), and it skipped the rest of the tests\n",
    "\n",
    "# let's try with if statements instead \n",
    "\n",
    "dinner_list = ['Dave', 'John', 'Phil', 'Daisy', 'Mark', 'Alice']\n",
    "\n",
    "if 'John' in dinner_list:\n",
    "    print('John is coming - make vegetarian food')   \n",
    "if 'Phil' in dinner_list: \n",
    "    print('Phil is coming - no nuts in food')\n",
    "if 'Alice' in dinner_list: \n",
    "    print('Alice is coming - no seafood')\n",
    "else:\n",
    "    print(\"make whatever you want\")\n",
    "    \n",
    "# this seems to be working, but what happens when we remove Alice from the list?"
   ]
  },
  {
   "cell_type": "code",
   "execution_count": null,
   "metadata": {
    "slideshow": {
     "slide_type": "slide"
    }
   },
   "outputs": [],
   "source": [
    "# so we should remove the else syntax and add another if \n",
    "\n",
    "dinner_list = ['Dave', 'Daisy', 'Mark']\n",
    "\n",
    "if 'John' in dinner_list:\n",
    "    print('John is coming - make vegetarian food')\n",
    "if 'Phil' in dinner_list: \n",
    "    print('Phil is coming - no nuts in food')\n",
    "if 'Alice' in dinner_list: \n",
    "    print('Alice is coming - no seafood')\n",
    "if 'John' not in dinner_list and 'Phil' not in dinner_list and 'Alice' not in dinner_list:\n",
    "    print(\"make whatever you want\")"
   ]
  },
  {
   "cell_type": "code",
   "execution_count": null,
   "metadata": {
    "slideshow": {
     "slide_type": "slide"
    }
   },
   "outputs": [],
   "source": [
    "# There are also nested if statements - if statement inside if statement\n",
    "\n",
    "num = -2\n",
    "\n",
    "if num >= 0:\n",
    "    if num == 0:\n",
    "        print(\"Zero\")\n",
    "    else:\n",
    "        print(\"Positive number\")\n",
    "else:\n",
    "    print(\"Negative number\")"
   ]
  }
 ],
 "metadata": {
  "celltoolbar": "Slideshow",
  "kernelspec": {
   "display_name": "Python 3 (ipykernel)",
   "language": "python",
   "name": "python3"
  },
  "language_info": {
   "codemirror_mode": {
    "name": "ipython",
    "version": 3
   },
   "file_extension": ".py",
   "mimetype": "text/x-python",
   "name": "python",
   "nbconvert_exporter": "python",
   "pygments_lexer": "ipython3",
   "version": "3.11.4"
  }
 },
 "nbformat": 4,
 "nbformat_minor": 4
}
