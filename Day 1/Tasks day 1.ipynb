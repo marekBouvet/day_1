{
 "cells": [
  {
   "cell_type": "markdown",
   "id": "4d90fc78-bffc-4daa-8697-8e1e7b94b7da",
   "metadata": {},
   "source": [
    "# Download some data\n",
    "\n",
    "split up the following url using f-string and variables so you can download data from the 1st of june until today\n",
    "\n",
    "> https://data.norges-bank.no/api/data/IR/B.KPRA.RR.R?format=csv&startPeriod=2023-08-06&endPeriod=2023-08-13&locale=no&bom=include"
   ]
  },
  {
   "cell_type": "code",
   "execution_count": null,
   "id": "47ef2ccb-d630-40de-8ac7-929a7ea212c9",
   "metadata": {},
   "outputs": [],
   "source": []
  },
  {
   "cell_type": "markdown",
   "id": "d6658ea0-3824-4107-803a-077684f2d1c1",
   "metadata": {
    "slideshow": {
     "slide_type": "slide"
    }
   },
   "source": [
    "# Task 3. \n",
    "\n",
    "\n",
    "#### 3. Lists\n",
    "\n",
    "3.1. Create a list named `travel_list` that contains 5 countries you want to visit \n",
    "\n",
    "3.2. Print countries number 2, 3 and 4 (remember indexing starts at 0)\n",
    "\n",
    "3.3. Add another country to the list at the third place \n",
    "\n",
    "3.4. Replace fourth country with \"Norway\"\n",
    "\n",
    "3.5. Print length of the list \n",
    "\n",
    "3.6. Sort your list alphabetically\n"
   ]
  },
  {
   "cell_type": "code",
   "execution_count": null,
   "id": "3e2f00f0-b3df-4a6b-8df7-ee295427881a",
   "metadata": {},
   "outputs": [],
   "source": []
  },
  {
   "cell_type": "markdown",
   "id": "b5b30ae2-af3f-4a49-bdff-1a4992d9e317",
   "metadata": {
    "slideshow": {
     "slide_type": "slide"
    },
    "tags": []
   },
   "source": [
    "# Task 4\n",
    "\n",
    "4.1 Create an integer `number` and write an `if` statement that prints \"condition is true\" if `number` is less than 0 or if `number` is greater or equal 100. \n",
    " \n",
    "4.2 For the same integer `number` in first task, write an if-else statement that checks if `number` is odd or even (hint: try using `number%2` ).\n",
    "\n",
    " \n",
    "4.3 You work in a science museum that charges different rates for different age groups:\n",
    "\n",
    "    - Ticket for anyone under age 4 is free. \n",
    "    - Ticket for anyone between the ages of 4 and 18 is 50 nok. \n",
    "    - Ticket for anyone age 18 or older is 120 nok.\n",
    "    \n",
    "    \n",
    "Create an if-elif-else statemant that checks persons age and prints how much money should that person pay for ticket. \n",
    "\n",
    "4.4 Define a numerical variable named number, and check the type \n",
    "\n",
    "    - if variable is integer, write 'Your number is integer!'\n",
    "\n",
    "    - if variable is float, write 'Your number is float!'\n",
    "\n",
    "    - if variable is complex number, write 'Your number is complex!'\n",
    "    \n",
    "Hint: check `isinstance()` function here: https://www.w3schools.com/python/ref_func_isinstance.asp\n"
   ]
  },
  {
   "cell_type": "code",
   "execution_count": null,
   "id": "85dcfc86-0bbb-41d8-8569-aef5af2b3762",
   "metadata": {},
   "outputs": [],
   "source": []
  },
  {
   "cell_type": "markdown",
   "id": "2af8e111-8452-4f28-9e7c-4537a80fd350",
   "metadata": {
    "slideshow": {
     "slide_type": "slide"
    }
   },
   "source": [
    "# Task 5 \n",
    "\n",
    "5.1. Create a list with 4 cars - audi, bmw, subaru and toyota (all lowercase!). For every car in the list, print the car name with capitalized first letter of the car, and for bmw capitalize all letters - so you should get:\n",
    "\n",
    "Audi \n",
    "\n",
    "BMW \n",
    "\n",
    "Subaru\n",
    "\n",
    "Toyota \n",
    "\n",
    "(Hint: use the title function from part 2)\n",
    "\n",
    "\n",
    "5.2. Create a list, `favorite_foods`,  with your 5 favorite foods. Then create an empty list, `name_lengths`. Iterate over `favorite_foods` and for each element of the tuple, save length of that element in `name_lengths`. \n",
    "\n",
    "for example, if your favorite foods are: pizza, steak, ice-cream, pasta bolognese, popcorn \n",
    "\n",
    "You should get: [5, 5, 9, 15, 7]\n",
    "\n",
    "\n",
    "5.3. Create a variable `number` with value 10. Create a `while` loop that for each iteration decrases `number` by 1 and prints it until you reach 0 (print x while x is greater or equal 0)\n"
   ]
  },
  {
   "cell_type": "code",
   "execution_count": null,
   "id": "170c646f-9089-499e-bf58-e3b696c7bf0d",
   "metadata": {},
   "outputs": [],
   "source": []
  }
 ],
 "metadata": {
  "kernelspec": {
   "display_name": "Python 3 (ipykernel)",
   "language": "python",
   "name": "python3"
  },
  "language_info": {
   "codemirror_mode": {
    "name": "ipython",
    "version": 3
   },
   "file_extension": ".py",
   "mimetype": "text/x-python",
   "name": "python",
   "nbconvert_exporter": "python",
   "pygments_lexer": "ipython3",
   "version": "3.11.4"
  }
 },
 "nbformat": 4,
 "nbformat_minor": 5
}
