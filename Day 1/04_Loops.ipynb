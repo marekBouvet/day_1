{
 "cells": [
  {
   "cell_type": "markdown",
   "metadata": {
    "slideshow": {
     "slide_type": "slide"
    }
   },
   "source": [
    "# Loops\n",
    "\n",
    "Python has two primitive loop commands:\n",
    "\n",
    " - for loops\n",
    " - while loops\n",
    " \n",
    " \n",
    "\n",
    "# for loop\n",
    "\n",
    "A for loop is used for iterating over a sequence (that can be a list, a tuple, a dictionary, a set, or a string).\n",
    "\n",
    "With the for loop we can execute a set of statements, once for each item in a list, tuple, set etc."
   ]
  },
  {
   "cell_type": "code",
   "execution_count": null,
   "metadata": {
    "slideshow": {
     "slide_type": "slide"
    }
   },
   "outputs": [],
   "source": [
    "# Print each fruit in a fruit list:\n",
    "\n",
    "fruit_list = [\"apple\", \"banana\", \"orange\"]\n",
    "\n",
    "\n",
    "\n",
    "\n",
    "    \n",
    "# fruit_list is the name of our list \n",
    "# fruit is the name of items in our list - you can use any name you want \n",
    "# (with same restrictions we have for varible names)"
   ]
  },
  {
   "cell_type": "code",
   "execution_count": null,
   "metadata": {
    "slideshow": {
     "slide_type": "slide"
    }
   },
   "outputs": [],
   "source": [
    "# uppercase and print each car in a car list: \n",
    "\n",
    "cars = ['volvo', 'ford', 'bmw', 'fiat']\n",
    "\n",
    "for car in cars:\n",
    "    print(car.upper())\n"
   ]
  },
  {
   "cell_type": "code",
   "execution_count": null,
   "metadata": {
    "slideshow": {
     "slide_type": "slide"
    }
   },
   "outputs": [],
   "source": [
    "# we can also iterate over every character in string\n",
    "\n",
    "string = \"abracadabra\"\n",
    "\n",
    "for character in string:\n",
    "    print(character)"
   ]
  },
  {
   "cell_type": "code",
   "execution_count": null,
   "metadata": {
    "slideshow": {
     "slide_type": "slide"
    }
   },
   "outputs": [],
   "source": [
    "# Given existing list create a new list with all items divided by 2\n",
    "\n",
    "my_list = [1, 5, 8, 3]\n",
    "\n",
    "new_list = mylist / 2 # this will not work\n"
   ]
  },
  {
   "cell_type": "code",
   "execution_count": null,
   "metadata": {
    "slideshow": {
     "slide_type": "slide"
    }
   },
   "outputs": [],
   "source": [
    "# Instead we can use for loop \n",
    "\n",
    "my_list = [1, 5, 8, 3]\n",
    "\n",
    "new_list = [] # first we create an empty list \n",
    "\n",
    "for item in my_list:\n",
    "    new_list.append( item / 2 ) # and then for each item in old list, \n",
    "                               # we add that item divided by 2 to the new list \n",
    "    \n",
    "print(new_list)"
   ]
  },
  {
   "cell_type": "code",
   "execution_count": null,
   "metadata": {
    "slideshow": {
     "slide_type": "slide"
    }
   },
   "outputs": [],
   "source": [
    "# create a function that summarizes all elements of the list \n",
    "\n",
    "mylist = [1, 5, 8, 3]\n",
    "\n",
    "total = 0 # assign new variable with value 0 \n",
    "\n",
    "for item in mylist:\n",
    "    total = total + item # and then we add every item to the sum_of_elements\n",
    "    \n",
    "print(total)"
   ]
  },
  {
   "cell_type": "code",
   "execution_count": null,
   "metadata": {
    "slideshow": {
     "slide_type": "slide"
    }
   },
   "outputs": [],
   "source": [
    "# A for loop can have an optional else block as well. \n",
    "\n",
    "# The else part is executed if the items in the sequence used in for loop exhausts.\n",
    "\n",
    "numbers = [0, 5, 10]\n",
    "\n",
    "for number in numbers:\n",
    "    print(number)\n",
    "else:\n",
    "    print(\"No numbers left.\")"
   ]
  },
  {
   "cell_type": "code",
   "execution_count": null,
   "metadata": {
    "slideshow": {
     "slide_type": "slide"
    }
   },
   "outputs": [],
   "source": [
    "# we can combine for loops with if statements \n",
    "\n",
    "mytuple = (1, 6, -13, 0, -1, 7, 2, -9)\n",
    "\n",
    "for item in mytuple:\n",
    "    if item < 0:\n",
    "        print(f'{item} is negative')\n",
    "    elif item == 0:\n",
    "        print(f'{item} is zero')\n",
    "    else:\n",
    "        print(f'{item} is positive')"
   ]
  },
  {
   "cell_type": "code",
   "execution_count": null,
   "metadata": {
    "slideshow": {
     "slide_type": "slide"
    }
   },
   "outputs": [],
   "source": [
    "# The break keyword can be used to stop the loop before it has looped through all the items\n",
    "\n",
    "# print every fruit in fruits but stop the loop after x is \"banana\":\n",
    "\n",
    "fruits = [\"apple\", \"banana\", \"orange\"]\n",
    "\n",
    "for fruit in fruits:\n",
    "    print(fruit)\n",
    "    if fruit == \"banana\":\n",
    "        break"
   ]
  },
  {
   "cell_type": "code",
   "execution_count": null,
   "metadata": {
    "slideshow": {
     "slide_type": "slide"
    }
   },
   "outputs": [],
   "source": [
    "# again, you need to be careful about the order of your functions\n",
    "\n",
    "fruits = [\"apple\", \"banana\", \"orange\"]\n",
    "\n",
    "for fruit in fruits:\n",
    "    if fruit == \"banana\":\n",
    "        print(fruit)\n",
    "        break\n",
    "        "
   ]
  },
  {
   "cell_type": "code",
   "execution_count": null,
   "metadata": {
    "slideshow": {
     "slide_type": "slide"
    }
   },
   "outputs": [],
   "source": [
    "# again, you need to be careful about the order of your functions\n",
    "\n",
    "fruits = [\"apple\", \"banana\", \"orange\"]\n",
    "\n",
    "for fruit in fruits:\n",
    "    if fruit == \"banana\":\n",
    "        break\n",
    "    print(fruit)\n",
    "        \n",
    "        "
   ]
  },
  {
   "cell_type": "code",
   "execution_count": null,
   "metadata": {
    "slideshow": {
     "slide_type": "slide"
    }
   },
   "outputs": [],
   "source": [
    "# With the continue statement we can skip the current iteration of the loop, \n",
    "# and continue with the next:\n",
    "\n",
    "# Print all fruits, but skip over banana:\n",
    "\n",
    "fruits = [\"apple\", \"banana\", \"orange\"]\n",
    "\n",
    "for fruit in fruits:\n",
    "    if fruit == \"banana\":\n",
    "        continue\n",
    "    print(fruit)"
   ]
  },
  {
   "cell_type": "code",
   "execution_count": null,
   "metadata": {
    "slideshow": {
     "slide_type": "slide"
    }
   },
   "outputs": [],
   "source": [
    "# we can also crate Nested Loops - a loop inside a loop \n",
    "\n",
    "# The \"inner loop\" will be executed one time for each iteration of the \"outer loop\":\n",
    "\n",
    "# Print each adjective for every fruit:\n",
    "\n",
    "adjectives = [\"red\", \"big\", \"tasty\"]\n",
    "fruits = [\"apple\", \"grapes\", \"cherry\"]\n",
    "\n",
    "\n",
    "for adjective in adjectives:\n",
    "    for fruit in fruits:\n",
    "        print(adjective, fruit)\n",
    "    print()"
   ]
  },
  {
   "cell_type": "code",
   "execution_count": null,
   "metadata": {
    "tags": []
   },
   "outputs": [],
   "source": [
    "import os\n",
    "\n",
    "folder_name = \"sample_data\"\n",
    "\n",
    "for path, _, filelist in os.walk(folder_name):\n",
    "    for filename in filelist:\n",
    "        if filename.endswith('.csv'):\n",
    "            with open(os.path.join(path, filename), encoding=\"utf-8\") as csv_file:\n",
    "                print(f\"{path}/{filename}\")\n",
    "                # or even better import the data"
   ]
  },
  {
   "cell_type": "markdown",
   "metadata": {
    "slideshow": {
     "slide_type": "slide"
    }
   },
   "source": [
    "# while loop\n",
    "\n",
    "The for loop takes a collection of items and executes a block of code once for each item in the collection. \n",
    "\n",
    "In contrast, the **while loop** is used to execute a block of statements repeatedly as long as, or while, a certain condition is true. \n",
    "\n",
    "When the condition becomes false, the loop stops. \n",
    "\n"
   ]
  },
  {
   "cell_type": "code",
   "execution_count": null,
   "metadata": {
    "slideshow": {
     "slide_type": "slide"
    }
   },
   "outputs": [],
   "source": [
    "# print current number while current number is less than 6\n",
    "\n",
    "current_number = 1 \n",
    "\n",
    "\n",
    "\n"
   ]
  },
  {
   "cell_type": "code",
   "execution_count": null,
   "metadata": {
    "slideshow": {
     "slide_type": "slide"
    }
   },
   "outputs": [],
   "source": [
    "# If you don't increment the number x, loop will run forever! \n",
    "\n",
    "current_number = 1 \n",
    "\n",
    "while current_number <= 5:    \n",
    "    print(current_number)    \n"
   ]
  },
  {
   "cell_type": "code",
   "execution_count": null,
   "metadata": {
    "slideshow": {
     "slide_type": "slide"
    }
   },
   "outputs": [],
   "source": [
    "# With the else statement we can run an aditional block of code when the condition no longer is true:\n",
    "\n",
    "# Print a message once the condition is false:\n",
    "\n",
    "current_number = 1 \n",
    "\n",
    "while current_number <= 5:    \n",
    "    print(current_number)    \n",
    "    current_number += 1\n",
    "else:\n",
    "    print(\"current number is no longer less than 6\")"
   ]
  },
  {
   "cell_type": "code",
   "execution_count": null,
   "metadata": {
    "slideshow": {
     "slide_type": "slide"
    }
   },
   "outputs": [],
   "source": [
    "# With the break statement we can stop the loop even if the while condition is true:\n",
    "\n",
    "current_number = 1 \n",
    "\n",
    "while current_number <= 5:\n",
    "    print(current_number)\n",
    "    if current_number == 3:\n",
    "        break\n",
    "    current_number += 1\n",
    "else:\n",
    "    print(\"current number is no longer less than 6\")"
   ]
  },
  {
   "cell_type": "code",
   "execution_count": null,
   "metadata": {
    "slideshow": {
     "slide_type": "slide"
    }
   },
   "outputs": [],
   "source": [
    "# With the continue statement we can skip the current iteration, and continue with the next:\n",
    "\n",
    "# Continue to the next iteration if i is 3:\n",
    "\n",
    "current_number = 0\n",
    "\n",
    "while current_number <= 5:\n",
    "    current_number += 1\n",
    "    if current_number == 3:\n",
    "        continue\n",
    "    print(current_number)\n",
    "else:\n",
    "    print(\"current number is no longer less than 6\")\n",
    "    "
   ]
  },
  {
   "cell_type": "code",
   "execution_count": null,
   "metadata": {},
   "outputs": [],
   "source": []
  }
 ],
 "metadata": {
  "celltoolbar": "Slideshow",
  "kernelspec": {
   "display_name": "Python 3 (ipykernel)",
   "language": "python",
   "name": "python3"
  },
  "language_info": {
   "codemirror_mode": {
    "name": "ipython",
    "version": 3
   },
   "file_extension": ".py",
   "mimetype": "text/x-python",
   "name": "python",
   "nbconvert_exporter": "python",
   "pygments_lexer": "ipython3",
   "version": "3.11.4"
  }
 },
 "nbformat": 4,
 "nbformat_minor": 4
}
